{
 "cells": [
  {
   "cell_type": "markdown",
   "metadata": {},
   "source": [
    "USING SCIPY FOR OPTIMISATION.\n",
    "\n",
    "From \"SciPy Beginner's Guide for Optimization\".\n",
    "\n",
    "Parts of an Optimisation problem:\n",
    "- Objective function\n",
    "- Inequality constraints\n",
    "- Equality constraints\n",
    "- Boundary conditions for variables\n",
    "- Initital conditions (guesses)\n"
   ]
  },
  {
   "cell_type": "code",
   "execution_count": 1,
   "metadata": {},
   "outputs": [],
   "source": [
    "import numpy as np\n",
    "from scipy.optimize import minimize"
   ]
  },
  {
   "cell_type": "code",
   "execution_count": 2,
   "metadata": {},
   "outputs": [],
   "source": [
    "#Defining the objective function\n",
    "\n",
    "def objective(x):\n",
    "    \n",
    "    #x is a vector whereby:\n",
    "    x1 = x[0]\n",
    "    x2 = x[1]\n",
    "    x3 = x[2]\n",
    "    x4 = x[3]\n",
    "    \n",
    "    #Objective function is given as (function to be minimised):\n",
    "    return x1 * x4 * (x1 + x2 + x3) + x3\n",
    "\n",
    "def constraint1(x):\n",
    "    \n",
    "    #This is an inequality constraint\n",
    "    return x[0] * x[1] * x[2] * x[3] - 25.0\n",
    "\n",
    "def constraint2(x):\n",
    "    \n",
    "    sum_sq = 40\n",
    "    \n",
    "    for i in range(4):\n",
    "        sum_sq = sum_sq - x[i]**2\n",
    "    \n",
    "    #This is an equality constraint\n",
    "    return sum_sq\n"
   ]
  },
  {
   "cell_type": "code",
   "execution_count": 3,
   "metadata": {},
   "outputs": [
    {
     "name": "stdout",
     "output_type": "stream",
     "text": [
      "Initial value:  16\n"
     ]
    }
   ],
   "source": [
    "#Defining initial guesses:\n",
    "\n",
    "x0 = [1,5,5,1]\n",
    "print(\"Initial value: \", objective(x0))"
   ]
  },
  {
   "cell_type": "code",
   "execution_count": 11,
   "metadata": {},
   "outputs": [],
   "source": [
    "#Defining the boundary conditions:\n",
    "\n",
    "b = (1.0, 5.0)\n",
    "bnds = (b, b, b, b)\n",
    "\n",
    "#Squiggly brackets for the constraints!\n",
    "con1 = {'type':'ineq', 'fun':constraint1}\n",
    "con2 = {'type':'eq', 'fun':constraint2}\n",
    "cons = [con1, con2]"
   ]
  },
  {
   "cell_type": "code",
   "execution_count": 12,
   "metadata": {},
   "outputs": [
    {
     "name": "stdout",
     "output_type": "stream",
     "text": [
      "     fun: 17.01401724563517\n",
      "     jac: array([14.57227015,  1.37940764,  2.37940764,  9.56415057])\n",
      " message: 'Optimization terminated successfully'\n",
      "    nfev: 25\n",
      "     nit: 5\n",
      "    njev: 5\n",
      "  status: 0\n",
      " success: True\n",
      "       x: array([1.        , 4.7429961 , 3.82115462, 1.37940765])\n"
     ]
    }
   ],
   "source": [
    "sol = minimize(objective, x0, method = 'SLSQP', \\\n",
    "              bounds = bnds, constraints = cons)\n",
    "\n",
    "print(sol)"
   ]
  },
  {
   "cell_type": "code",
   "execution_count": 16,
   "metadata": {},
   "outputs": [
    {
     "name": "stdout",
     "output_type": "stream",
     "text": [
      "Minimum value of the objective function is:  17.01401724563517\n"
     ]
    }
   ],
   "source": [
    "print(\"Minimum value of the objective function is: \", sol.fun)"
   ]
  },
  {
   "cell_type": "code",
   "execution_count": 15,
   "metadata": {},
   "outputs": [
    {
     "name": "stdout",
     "output_type": "stream",
     "text": [
      "The values of x1, x2, x3 and x4 to achieve this are:  [1.         4.7429961  3.82115462 1.37940765]\n"
     ]
    }
   ],
   "source": [
    "print(\"The values of x1, x2, x3 and x4 to achieve this are: \", sol.x)"
   ]
  },
  {
   "cell_type": "code",
   "execution_count": null,
   "metadata": {},
   "outputs": [],
   "source": []
  }
 ],
 "metadata": {
  "kernelspec": {
   "display_name": "Python 3",
   "language": "python",
   "name": "python3"
  },
  "language_info": {
   "codemirror_mode": {
    "name": "ipython",
    "version": 3
   },
   "file_extension": ".py",
   "mimetype": "text/x-python",
   "name": "python",
   "nbconvert_exporter": "python",
   "pygments_lexer": "ipython3",
   "version": "3.8.5"
  }
 },
 "nbformat": 4,
 "nbformat_minor": 4
}
